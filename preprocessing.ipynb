{
 "cells": [
  {
   "cell_type": "code",
   "execution_count": 1,
   "metadata": {
    "collapsed": false
   },
   "outputs": [
    {
     "name": "stderr",
     "output_type": "stream",
     "text": [
      "/home/ebuka/anaconda/lib/python3.5/site-packages/sklearn/cross_validation.py:41: DeprecationWarning: This module was deprecated in version 0.18 in favor of the model_selection module into which all the refactored classes and functions are moved. Also note that the interface of the new CV iterators are different from that of this module. This module will be removed in 0.20.\n",
      "  \"This module will be removed in 0.20.\", DeprecationWarning)\n"
     ]
    },
    {
     "name": "stdout",
     "output_type": "stream",
     "text": [
      "[nltk_data] Downloading package wordnet to /home/ebuka/nltk_data...\n",
      "[nltk_data]   Package wordnet is already up-to-date!\n"
     ]
    }
   ],
   "source": [
    "import pandas as pd # provide sql-like data manipulation tools. very handy.\n",
    "pd.options.mode.chained_assignment = None\n",
    "import numpy as np # high dimensional vector computing library.\n",
    "from copy import deepcopy\n",
    "from string import punctuation\n",
    "from random import shuffle\n",
    "import os\n",
    "import codecs\n",
    "import unicodedata\n",
    "import gensim\n",
    "from gensim.models.word2vec import Word2Vec # the word2vec model gensim class\n",
    "LabeledSentence = gensim.models.doc2vec.LabeledSentence # we'll talk about this down below\n",
    "from sklearn import neighbors\n",
    "from sklearn import cross_validation\n",
    "import nltk\n",
    "nltk.download('wordnet')\n",
    "from nltk.stem.wordnet import WordNetLemmatizer\n",
    "from sklearn.metrics import confusion_matrix\n",
    "from tqdm import tqdm\n",
    "tqdm.pandas(desc=\"progress-bar\")\n",
    "\n",
    "from nltk.tokenize import TweetTokenizer # a tweet tokenizer from nltk.\n",
    "tokenizer = TweetTokenizer()\n",
    "\n",
    "from sklearn.model_selection import train_test_split\n",
    "from sklearn.feature_extraction.text import TfidfVectorizer\n",
    "from sklearn.metrics import accuracy_score \n",
    "import re\n",
    "import string\n",
    "from urllib.parse import urlparse\n",
    "from sklearn.model_selection import train_test_split\n",
    "from sklearn.feature_extraction.text import TfidfVectorizer\n",
    "from nltk.tokenize import word_tokenize\n",
    "from sklearn.preprocessing import scale\n",
    "from sklearn.model_selection import GridSearchCV\n",
    "from sklearn.pipeline import Pipeline\n"
   ]
  },
  {
   "cell_type": "code",
   "execution_count": 6,
   "metadata": {
    "collapsed": true
   },
   "outputs": [],
   "source": [
    "pd_corpus_path = \"/home/ebuka/Desktop/masterarbeit/dataframe\""
   ]
  },
  {
   "cell_type": "code",
   "execution_count": 7,
   "metadata": {
    "collapsed": false,
    "scrolled": false
   },
   "outputs": [
    {
     "data": {
      "text/plain": [
       "(141589, 2)"
      ]
     },
     "execution_count": 7,
     "metadata": {},
     "output_type": "execute_result"
    }
   ],
   "source": [
    "import pandas as pd\n",
    "#df= pd.read_csv('movies1.csv', sep = ',',skiprows=2)\n",
    "#data= pd.read_csv('tempfile.csv', sep = ',',error_bad_lines=False)\n",
    "data= pd.read_csv('movies.csv', sep = ',')\n",
    "data.loc[data.review_score>3,'Sentiment']=1\n",
    "data.loc[data.review_score<=3,'Sentiment']=0\n",
    "data =data[['review_text','Sentiment']]\n",
    "data = data[data.Sentiment.isnull() == False]\n",
    "data['Sentiment'] = data['Sentiment'].map(int)\n",
    "data = data[data['review_text'].isnull() == False]\n",
    "data.reset_index(inplace=True)\n",
    "data.drop('index', axis=1, inplace=True)\n",
    "data.to_pickle(pd_corpus_path + '/movies.csv.pkl')\n",
    "data.shape\n"
   ]
  },
  {
   "cell_type": "code",
   "execution_count": 11,
   "metadata": {
    "collapsed": false
   },
   "outputs": [
    {
     "data": {
      "text/html": [
       "<div>\n",
       "<style scoped>\n",
       "    .dataframe tbody tr th:only-of-type {\n",
       "        vertical-align: middle;\n",
       "    }\n",
       "\n",
       "    .dataframe tbody tr th {\n",
       "        vertical-align: top;\n",
       "    }\n",
       "\n",
       "    .dataframe thead th {\n",
       "        text-align: right;\n",
       "    }\n",
       "</style>\n",
       "<table border=\"1\" class=\"dataframe\">\n",
       "  <thead>\n",
       "    <tr style=\"text-align: right;\">\n",
       "      <th></th>\n",
       "      <th>review_text</th>\n",
       "      <th>Sentiment</th>\n",
       "    </tr>\n",
       "  </thead>\n",
       "  <tbody>\n",
       "    <tr>\n",
       "      <th>0</th>\n",
       "      <td>Synopsis On the daily trek from Juarez Mexico...</td>\n",
       "      <td>0</td>\n",
       "    </tr>\n",
       "    <tr>\n",
       "      <th>1</th>\n",
       "      <td>THE VIRGIN OF JUAREZ is based on true events ...</td>\n",
       "      <td>0</td>\n",
       "    </tr>\n",
       "    <tr>\n",
       "      <th>2</th>\n",
       "      <td>The scenes in this film can be very disquieti...</td>\n",
       "      <td>1</td>\n",
       "    </tr>\n",
       "    <tr>\n",
       "      <th>3</th>\n",
       "      <td>THE VIRGIN OF JUAREZ (2006)&lt;br /&gt;directed by ...</td>\n",
       "      <td>0</td>\n",
       "    </tr>\n",
       "    <tr>\n",
       "      <th>4</th>\n",
       "      <td>Informationally this SHOWTIME original is ess...</td>\n",
       "      <td>0</td>\n",
       "    </tr>\n",
       "    <tr>\n",
       "      <th>5</th>\n",
       "      <td>The murders in Juarez are real. This movie is...</td>\n",
       "      <td>0</td>\n",
       "    </tr>\n",
       "    <tr>\n",
       "      <th>6</th>\n",
       "      <td>Mexican men are macho rapists gangsters or in...</td>\n",
       "      <td>0</td>\n",
       "    </tr>\n",
       "    <tr>\n",
       "      <th>7</th>\n",
       "      <td>Over the past few years public television has...</td>\n",
       "      <td>1</td>\n",
       "    </tr>\n",
       "    <tr>\n",
       "      <th>8</th>\n",
       "      <td>I recvd this video (DVD version) as a Christm...</td>\n",
       "      <td>1</td>\n",
       "    </tr>\n",
       "    <tr>\n",
       "      <th>9</th>\n",
       "      <td>Wow! When I saw this show on PBS--that was it...</td>\n",
       "      <td>1</td>\n",
       "    </tr>\n",
       "    <tr>\n",
       "      <th>10</th>\n",
       "      <td>I have the Doo Wop 50 and 51 DVDs and was anx...</td>\n",
       "      <td>1</td>\n",
       "    </tr>\n",
       "    <tr>\n",
       "      <th>11</th>\n",
       "      <td>Having worked in television for 34 years I ca...</td>\n",
       "      <td>1</td>\n",
       "    </tr>\n",
       "    <tr>\n",
       "      <th>12</th>\n",
       "      <td>The people who have reviewed this DVD before ...</td>\n",
       "      <td>1</td>\n",
       "    </tr>\n",
       "    <tr>\n",
       "      <th>13</th>\n",
       "      <td>I have all of the doo wop DVD's and this one ...</td>\n",
       "      <td>1</td>\n",
       "    </tr>\n",
       "    <tr>\n",
       "      <th>14</th>\n",
       "      <td>The performance of Little Anthony and the Imp...</td>\n",
       "      <td>1</td>\n",
       "    </tr>\n",
       "    <tr>\n",
       "      <th>15</th>\n",
       "      <td>Get it also get Dop Wop 50 and Doo Wop 51. Ea...</td>\n",
       "      <td>1</td>\n",
       "    </tr>\n",
       "    <tr>\n",
       "      <th>16</th>\n",
       "      <td>Excellent excellent performers.  Excellent vi...</td>\n",
       "      <td>1</td>\n",
       "    </tr>\n",
       "    <tr>\n",
       "      <th>17</th>\n",
       "      <td>This video is awesome and of particular inter...</td>\n",
       "      <td>1</td>\n",
       "    </tr>\n",
       "    <tr>\n",
       "      <th>18</th>\n",
       "      <td>As I stated in my reviews for Doo Wop 50 and ...</td>\n",
       "      <td>1</td>\n",
       "    </tr>\n",
       "    <tr>\n",
       "      <th>19</th>\n",
       "      <td>I own both the VHS and DVD versions of this p...</td>\n",
       "      <td>1</td>\n",
       "    </tr>\n",
       "  </tbody>\n",
       "</table>\n",
       "</div>"
      ],
      "text/plain": [
       "                                          review_text  Sentiment\n",
       "0    Synopsis On the daily trek from Juarez Mexico...          0\n",
       "1    THE VIRGIN OF JUAREZ is based on true events ...          0\n",
       "2    The scenes in this film can be very disquieti...          1\n",
       "3    THE VIRGIN OF JUAREZ (2006)<br />directed by ...          0\n",
       "4    Informationally this SHOWTIME original is ess...          0\n",
       "5    The murders in Juarez are real. This movie is...          0\n",
       "6    Mexican men are macho rapists gangsters or in...          0\n",
       "7    Over the past few years public television has...          1\n",
       "8    I recvd this video (DVD version) as a Christm...          1\n",
       "9    Wow! When I saw this show on PBS--that was it...          1\n",
       "10   I have the Doo Wop 50 and 51 DVDs and was anx...          1\n",
       "11   Having worked in television for 34 years I ca...          1\n",
       "12   The people who have reviewed this DVD before ...          1\n",
       "13   I have all of the doo wop DVD's and this one ...          1\n",
       "14   The performance of Little Anthony and the Imp...          1\n",
       "15   Get it also get Dop Wop 50 and Doo Wop 51. Ea...          1\n",
       "16   Excellent excellent performers.  Excellent vi...          1\n",
       "17   This video is awesome and of particular inter...          1\n",
       "18   As I stated in my reviews for Doo Wop 50 and ...          1\n",
       "19   I own both the VHS and DVD versions of this p...          1"
      ]
     },
     "execution_count": 11,
     "metadata": {},
     "output_type": "execute_result"
    }
   ],
   "source": [
    "data.head(20)"
   ]
  },
  {
   "cell_type": "code",
   "execution_count": 7,
   "metadata": {
    "collapsed": false
   },
   "outputs": [
    {
     "name": "stderr",
     "output_type": "stream",
     "text": [
      "/home/ebuka/anaconda/lib/python3.5/site-packages/matplotlib/font_manager.py:280: UserWarning: Matplotlib is building the font cache using fc-list. This may take a moment.\n",
      "  'Matplotlib is building the font cache using fc-list. '\n"
     ]
    },
    {
     "data": {
      "image/png": "[encoded data removed]",
      "text/plain": [
       "<matplotlib.figure.Figure at 0x7f5315c4fa58>"
      ]
     },
     "metadata": {},
     "output_type": "display_data"
    }
   ],
   "source": [
    "import matplotlib.pyplot as plt\n",
    "import seaborn as sns\n",
    "ax = plt.axes()\n",
    "sns.countplot(data.review_score,ax=ax)\n",
    "ax.set_title('Score Distribution')\n",
    "plt.show()"
   ]
  },
  {
   "cell_type": "code",
   "execution_count": 4,
   "metadata": {
    "collapsed": false
   },
   "outputs": [
    {
     "name": "stdout",
     "output_type": "stream",
     "text": [
      "Proportion of positive review: 0.7602989421196922\n",
      "Proportion of negative review: 0.2397010578803078\n"
     ]
    }
   ],
   "source": [
    "print(\"Proportion of positive review:\", len(data[data.Sentiment==1])/len(data))\n",
    "print(\"Proportion of negative review:\",len(data[data.Sentiment==0])/len(data))"
   ]
  },
  {
   "cell_type": "code",
   "execution_count": 8,
   "metadata": {
    "collapsed": false
   },
   "outputs": [
    {
     "data": {
      "image/png": "[encoded data removed]",
      "text/plain": [
       "<matplotlib.figure.Figure at 0x7f5315c4f908>"
      ]
     },
     "metadata": {},
     "output_type": "display_data"
    }
   ],
   "source": [
    "ax = plt.axes()\n",
    "sns.countplot(data.Sentiment,ax=ax)\n",
    "ax.set_title('Sentiment Positive vs Negative Distribution')\n",
    "plt.show()"
   ]
  },
  {
   "cell_type": "code",
   "execution_count": 12,
   "metadata": {
    "collapsed": false
   },
   "outputs": [
    {
     "data": {
      "text/plain": [
       "849529"
      ]
     },
     "execution_count": 12,
     "metadata": {},
     "output_type": "execute_result"
    }
   ],
   "source": [
    "len(data)"
   ]
  },
  {
   "cell_type": "code",
   "execution_count": 8,
   "metadata": {
    "collapsed": false
   },
   "outputs": [],
   "source": [
    "class preprocess(): \n",
    "    df = data\n",
    "   \n",
    "    def tokenize(self,tweet):\n",
    "        try:     \n",
    "            token = unicodedata.normalize(\"NFKD\", tweet).encode(\"ascii\", \"ignore\").decode(\"utf8\")  # converts 'ueber' to 'uber'\n",
    "            token = re.sub('\\ |\\?|\\.|\\!|\\/|\\;|\\:|\\<|\\>|\\+|\\$|\\*|\\)|\\(|\\&|\\=|\\%|\\-|\\'|\\\"|\\%{', ' ', token)# Lets pass only meaningful characters \n",
    "            if '\\n\\n' in token:# remove header\n",
    "                token = token[token.index('\\n\\n'):]\n",
    "\n",
    "            token = re.sub(r'([^a-zA-Z0-9 \\-\\_%])', '', tweet)# Lets pass only meaningful characters\n",
    "            token = re.sub(r'((\\.\\s*){2,})', '', token)# removes multiple dots with optional whitespaces in between\n",
    "            token = re.sub(r'(\\s{2,})', ' ', token) # Removes multiple whitespaces\n",
    "            token = token.lower()# lower cases everything\n",
    "            #token = re.sub(r'(?<=\\s)[\\w?!%,.;:\\/]{1,3}(?=\\s|\\Z)', '', token)# removes tokens shorter than minLen\n",
    "            token = re.sub(r'\\b(?!(\\D\\S*|[12][0-9]{3})\\b)\\S+\\b', '', token) # removes all digits except digits that represent years\n",
    "            token = re.sub(r'<.*?>', '', token)# remove html\n",
    "            token = re.sub(r'[a-zA-Z0-9_.+-]+@[a-zA-Z0-9-]+\\.[a-zA-Z0-9-.]+', '', token)# remove email addresses\n",
    "            token = re.sub(r'[\"\\']', '', token )# remove quotes\n",
    "            token = token.replace('\\n', '')# replace newlines\n",
    "                    \n",
    "            tokens = tokenizer.tokenize(token)\n",
    "\n",
    "\n",
    "            return tokens\n",
    "        except:\n",
    "            return 'NC'\n",
    "\n",
    "\n",
    "    def postprocess(self):\n",
    "       \n",
    "        self.data = self.df\n",
    "        self.data['tokens'] = self.data['review_text'].progress_map(self.tokenize)  ## progress_map is a variant of the map function plus a progress bar. Handy to monitor DataFrame creations.\n",
    "        self.data = self.data[self.data.tokens != 'NC']\n",
    "        self.data.reset_index(inplace=True)\n",
    "        self.data.drop('index', inplace=True, axis=1)\n",
    "        self.data.drop(['review_text'],inplace=True, axis=1)\n",
    "        return self.data\n",
    "\n",
    "    "
   ]
  },
  {
   "cell_type": "code",
   "execution_count": 9,
   "metadata": {
    "collapsed": false
   },
   "outputs": [
    {
     "name": "stderr",
     "output_type": "stream",
     "text": [
      "progress-bar: 100%|██████████| 141589/141589 [03:10<00:00, 742.07it/s]\n"
     ]
    }
   ],
   "source": [
    "hei = preprocess()\n",
    "data=hei.postprocess()\n",
    "data.to_pickle(pd_corpus_path + '/moviestokenized.pkl')\n",
    "\n",
    "\n"
   ]
  },
  {
   "cell_type": "code",
   "execution_count": null,
   "metadata": {
    "collapsed": true
   },
   "outputs": [],
   "source": []
  }
 ],
 "metadata": {
  "anaconda-cloud": {},
  "kernelspec": {
   "display_name": "Python [conda root]",
   "language": "python",
   "name": "conda-root-py"
  },
  "language_info": {
   "codemirror_mode": {
    "name": "ipython",
    "version": 3
   },
   "file_extension": ".py",
   "mimetype": "text/x-python",
   "name": "python",
   "nbconvert_exporter": "python",
   "pygments_lexer": "ipython3",
   "version": "3.5.2"
  }
 },
 "nbformat": 4,
 "nbformat_minor": 2
}
